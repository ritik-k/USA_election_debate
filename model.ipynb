{
 "metadata": {
  "language_info": {
   "codemirror_mode": {
    "name": "ipython",
    "version": 3
   },
   "file_extension": ".py",
   "mimetype": "text/x-python",
   "name": "python",
   "nbconvert_exporter": "python",
   "pygments_lexer": "ipython3",
   "version": "3.8.5-final"
  },
  "orig_nbformat": 2,
  "kernelspec": {
   "name": "python38564bittwitcondaa52bfc911aec4e4d8252196a54eb4094",
   "display_name": "Python 3.8.5 64-bit ('twit': conda)"
  }
 },
 "nbformat": 4,
 "nbformat_minor": 2,
 "cells": [
  {
   "cell_type": "code",
   "execution_count": 1,
   "metadata": {},
   "outputs": [],
   "source": [
    "import pandas as pd"
   ]
  },
  {
   "cell_type": "code",
   "execution_count": 2,
   "metadata": {},
   "outputs": [],
   "source": [
    "d1 = pd.read_csv('data/csv/us_election_2020_1st_presidential_debate.csv')\n",
    "d2 = pd.read_csv('data/csv/us_election_2020_2nd_presidential_debate.csv')\n",
    "t = pd.read_csv('data/csv/us_election_2020_trump_town_hall.csv')\n",
    "b = pd.read_csv('data/csv/us_election_2020_biden_town_hall.csv')\n",
    "e = pd.read_csv('data/csv/extra_training_data.csv')"
   ]
  },
  {
   "cell_type": "code",
   "execution_count": 3,
   "metadata": {},
   "outputs": [],
   "source": [
    "d1.loc[d1['speaker'] == 'President Donald J. Trump','speaker'] = 'Donald Trump'\n",
    "d1.loc[d1['speaker'] == 'Vice President Joe Biden','speaker'] = 'Joe Biden'"
   ]
  },
  {
   "cell_type": "code",
   "execution_count": 4,
   "metadata": {},
   "outputs": [],
   "source": [
    "t.loc[t['speaker'] == 'President Trump','speaker'] = 'Donald Trump'"
   ]
  },
  {
   "cell_type": "code",
   "execution_count": 5,
   "metadata": {},
   "outputs": [],
   "source": [
    "def cand_only(df):\n",
    "    df.drop(df.index[~((df['speaker']=='Donald Trump') | (df['speaker']=='Joe Biden'))], inplace=True)\n",
    "    df.reset_index(drop=True, inplace=True)"
   ]
  },
  {
   "cell_type": "code",
   "execution_count": 6,
   "metadata": {},
   "outputs": [
    {
     "output_type": "stream",
     "name": "stdout",
     "text": [
      "\n\n"
     ]
    }
   ],
   "source": [
    "cand_only(d1)\n",
    "cand_only(d2)\n",
    "cand_only(t)\n",
    "cand_only(b)\n",
    "print('\\n')"
   ]
  },
  {
   "cell_type": "code",
   "execution_count": 7,
   "metadata": {},
   "outputs": [],
   "source": [
    "def drop_min(df):\n",
    "    df.drop(columns=['minute'],inplace=True)"
   ]
  },
  {
   "cell_type": "code",
   "execution_count": 8,
   "metadata": {},
   "outputs": [
    {
     "output_type": "stream",
     "name": "stdout",
     "text": [
      "\n\n"
     ]
    }
   ],
   "source": [
    "drop_min(d1)\n",
    "drop_min(d2)\n",
    "drop_min(t)\n",
    "drop_min(b)\n",
    "print('\\n')"
   ]
  },
  {
   "cell_type": "code",
   "execution_count": 9,
   "metadata": {},
   "outputs": [],
   "source": [
    "frames=[d1,d2,t,b,e]"
   ]
  },
  {
   "cell_type": "code",
   "execution_count": 10,
   "metadata": {},
   "outputs": [],
   "source": [
    "master_df = pd.concat(frames, ignore_index=True)"
   ]
  },
  {
   "cell_type": "code",
   "execution_count": 11,
   "metadata": {},
   "outputs": [],
   "source": [
    "df = master_df.copy()"
   ]
  },
  {
   "cell_type": "code",
   "execution_count": 12,
   "metadata": {},
   "outputs": [],
   "source": [
    "import re\n",
    "import string\n",
    "\n",
    "def text_process(text):\n",
    "  text = text.lower() ##Convert into lower\n",
    "  text = re.sub('\\[.*?\\]','',text) ## Removing brackets\n",
    "  text = re.sub('[%s]' % re.escape(string.punctuation), '' , text)  ## remove punctuations\n",
    "  text = re.sub('\\w*\\d\\w*','',text)\n",
    "  return text"
   ]
  },
  {
   "cell_type": "code",
   "execution_count": 13,
   "metadata": {},
   "outputs": [],
   "source": [
    "df['text'] = df['text'].apply(text_process)"
   ]
  },
  {
   "cell_type": "code",
   "execution_count": 14,
   "metadata": {},
   "outputs": [
    {
     "output_type": "execute_result",
     "data": {
      "text/plain": [
       "        speaker                                               text\n",
       "0     Joe Biden                                  how you doing man\n",
       "1  Donald Trump                                  how are you doing\n",
       "2     Joe Biden                                           i’m well\n",
       "3  Donald Trump  thank you very much chris i will tell you very...\n",
       "4  Donald Trump  and we won the election and therefore we have ..."
      ],
      "text/html": "<div>\n<style scoped>\n    .dataframe tbody tr th:only-of-type {\n        vertical-align: middle;\n    }\n\n    .dataframe tbody tr th {\n        vertical-align: top;\n    }\n\n    .dataframe thead th {\n        text-align: right;\n    }\n</style>\n<table border=\"1\" class=\"dataframe\">\n  <thead>\n    <tr style=\"text-align: right;\">\n      <th></th>\n      <th>speaker</th>\n      <th>text</th>\n    </tr>\n  </thead>\n  <tbody>\n    <tr>\n      <th>0</th>\n      <td>Joe Biden</td>\n      <td>how you doing man</td>\n    </tr>\n    <tr>\n      <th>1</th>\n      <td>Donald Trump</td>\n      <td>how are you doing</td>\n    </tr>\n    <tr>\n      <th>2</th>\n      <td>Joe Biden</td>\n      <td>i’m well</td>\n    </tr>\n    <tr>\n      <th>3</th>\n      <td>Donald Trump</td>\n      <td>thank you very much chris i will tell you very...</td>\n    </tr>\n    <tr>\n      <th>4</th>\n      <td>Donald Trump</td>\n      <td>and we won the election and therefore we have ...</td>\n    </tr>\n  </tbody>\n</table>\n</div>"
     },
     "metadata": {},
     "execution_count": 14
    }
   ],
   "source": [
    "df.head()"
   ]
  },
  {
   "cell_type": "code",
   "execution_count": 15,
   "metadata": {},
   "outputs": [
    {
     "output_type": "stream",
     "name": "stdout",
     "text": [
      "IDV_train: 2935\nIDV_test: 734\nDV_train: 2935\nDV_test: 734\n"
     ]
    }
   ],
   "source": [
    "##Model Training\n",
    "\n",
    "from sklearn.model_selection import train_test_split\n",
    "\n",
    "ID_V = df.text ##ID_V  = Independent Var\n",
    "D_V = df.speaker #D_V = Dependent Var\n",
    "\n",
    "IDV_train, IDV_test, DV_train, DV_test = train_test_split(ID_V, D_V, test_size=0.2, random_state=42)\n",
    "\n",
    "print('IDV_train:',len(IDV_train))\n",
    "print('IDV_test:',len(IDV_test))\n",
    "print('DV_train:',len(DV_train))\n",
    "print('DV_test:',len(DV_test))"
   ]
  },
  {
   "cell_type": "code",
   "execution_count": 16,
   "metadata": {},
   "outputs": [],
   "source": [
    "from sklearn.feature_extraction.text import TfidfVectorizer\n",
    "from sklearn.linear_model import LogisticRegression\n",
    "\n",
    "vec = TfidfVectorizer()\n",
    "reg = LogisticRegression(solver = 'lbfgs')\n",
    "\n",
    "from sklearn.pipeline import Pipeline"
   ]
  },
  {
   "cell_type": "code",
   "execution_count": 17,
   "metadata": {},
   "outputs": [
    {
     "output_type": "execute_result",
     "data": {
      "text/plain": [
       "Pipeline(steps=[('vectorizer', TfidfVectorizer()),\n",
       "                ('classifier', LogisticRegression())])"
      ]
     },
     "metadata": {},
     "execution_count": 17
    }
   ],
   "source": [
    "model = Pipeline([('vectorizer',vec),('classifier',reg)])\n",
    "\n",
    "model.fit(IDV_train,DV_train)"
   ]
  },
  {
   "cell_type": "code",
   "execution_count": 18,
   "metadata": {},
   "outputs": [
    {
     "output_type": "execute_result",
     "data": {
      "text/plain": [
       "array([[238,  19],\n",
       "       [ 85, 392]])"
      ]
     },
     "metadata": {},
     "execution_count": 18
    }
   ],
   "source": [
    "from sklearn.metrics import confusion_matrix\n",
    "predictions = model.predict(IDV_test)\n",
    "confusion_matrix(predictions, DV_test)"
   ]
  },
  {
   "cell_type": "code",
   "execution_count": 19,
   "metadata": {},
   "outputs": [
    {
     "output_type": "execute_result",
     "data": {
      "text/plain": [
       "85.83"
      ]
     },
     "metadata": {},
     "execution_count": 19
    }
   ],
   "source": [
    "accuracy = round(((238+392)/(238+392+19+85))*100,2)\n",
    "accuracy"
   ]
  },
  {
   "source": [
    "### Let us check the model's predictions for some of Joe Biden's quotes."
   ],
   "cell_type": "markdown",
   "metadata": {}
  },
  {
   "cell_type": "code",
   "execution_count": 20,
   "metadata": {},
   "outputs": [
    {
     "output_type": "execute_result",
     "data": {
      "text/plain": [
       "array(['Joe Biden', 'Joe Biden', 'Joe Biden', 'Joe Biden', 'Donald Trump',\n",
       "       'Joe Biden'], dtype=object)"
      ]
     },
     "metadata": {},
     "execution_count": 20
    }
   ],
   "source": [
    "ex = [\"Leadership, at its core, in my view, is about being personal.\",\n",
    "\n",
    "\"It's time to put away the harsh rhetoric, lower the temperature, see each other again ... we have to stop treating our opponents like enemies\",\n",
    "\n",
    "\"On Monday, I will name a group of leading scientists and experts as transition advisors to help take the Biden-Harris COVID plan and convert it into an action blueprint that will start on January 20th, 2021\",\n",
    "\n",
    "\"Already more than 220,000 people in the US have lost their lives to this virus. Worse yet, a new study from Columbia University suggests that anywhere between 130,000 and 210,000 of those deaths were avoidable\",\n",
    "\n",
    "\"The good news is that people know me… The bad news is, they know me.\",\n",
    "\n",
    "\"If we follow the science and keep faith with one another, I promise you, we'll get through this and come out the other side much faster than the rate we're going now. Look, you all know this. The American people have always given their best to this country in times of crisis. And this time isn't any different,\"]\n",
    "result = model.predict(ex)\n",
    "result"
   ]
  },
  {
   "cell_type": "code",
   "execution_count": null,
   "metadata": {},
   "outputs": [],
   "source": []
  },
  {
   "cell_type": "code",
   "execution_count": null,
   "metadata": {},
   "outputs": [],
   "source": []
  },
  {
   "cell_type": "code",
   "execution_count": 21,
   "metadata": {},
   "outputs": [
    {
     "output_type": "execute_result",
     "data": {
      "text/plain": [
       "array(['Joe Biden'], dtype=object)"
      ]
     },
     "metadata": {},
     "execution_count": 21
    }
   ],
   "source": [
    "ex=['I sought this office to restore the soul of America. To rebuild the backbone of the nation — the middle class. To make America respected around the world again and to unite us here at home.']\n",
    "result = model.predict(ex)\n",
    "result"
   ]
  },
  {
   "cell_type": "code",
   "execution_count": 22,
   "metadata": {},
   "outputs": [
    {
     "output_type": "execute_result",
     "data": {
      "text/plain": [
       "array(['Joe Biden'], dtype=object)"
      ]
     },
     "metadata": {},
     "execution_count": 22
    }
   ],
   "source": [
    "ex=['We all agreed that we want to get the economy back on track. We need our workers to be back on the job by getting the virus under control. We’re going in a very dark winter. Things are going to get much tougher before they get easier.']\n",
    "result = model.predict(ex)\n",
    "result"
   ]
  },
  {
   "cell_type": "code",
   "execution_count": 23,
   "metadata": {},
   "outputs": [
    {
     "output_type": "execute_result",
     "data": {
      "text/plain": [
       "array(['Joe Biden'], dtype=object)"
      ]
     },
     "metadata": {},
     "execution_count": 23
    }
   ],
   "source": [
    "ex=['Well, I hope there’s going to be a lot of people who vote for me because of who I am, but I think the contrast between Donald Trump and me is about as stark as it can get in terms of our value set and how we view the world.']\n",
    "result = model.predict(ex)\n",
    "result"
   ]
  },
  {
   "cell_type": "code",
   "execution_count": 24,
   "metadata": {},
   "outputs": [
    {
     "output_type": "execute_result",
     "data": {
      "text/plain": [
       "array(['Joe Biden'], dtype=object)"
      ]
     },
     "metadata": {},
     "execution_count": 24
    }
   ],
   "source": [
    "ex=['Right now, the biggest domestic issue is our health. Right now, COVID. COVID, the way he’s handling COVID is just absolutely totally irresponsible. He’s telling people that we’ve turned the bend in one of his recent rallies. Well, he’s gone, and as my grandpop would say, he’s gone round the bend. I mean, we are in real trouble.']\n",
    "result = model.predict(ex)\n",
    "result"
   ]
  },
  {
   "cell_type": "code",
   "execution_count": 25,
   "metadata": {},
   "outputs": [
    {
     "output_type": "execute_result",
     "data": {
      "text/plain": [
       "array(['Joe Biden'], dtype=object)"
      ]
     },
     "metadata": {},
     "execution_count": 25
    }
   ],
   "source": [
    "ex=['You’d don’t have to lock down the economy. It depends on the community. It depends on where it’s in real trouble. And you have to do things that make sense that make it easier for people to avoid being exposed. Freedom is about making sure that you care about the people you’re around that they be free too. It’s a patriotism to put this mask on.']\n",
    "result = model.predict(ex)\n",
    "result"
   ]
  },
  {
   "source": [],
   "cell_type": "code",
   "metadata": {},
   "execution_count": 84,
   "outputs": []
  },
  {
   "source": [
    "### Let us check the model's predictions for some of Donald Trump's quotes."
   ],
   "cell_type": "markdown",
   "metadata": {}
  },
  {
   "cell_type": "code",
   "execution_count": 26,
   "metadata": {},
   "outputs": [
    {
     "output_type": "execute_result",
     "data": {
      "text/plain": [
       "array(['Donald Trump', 'Donald Trump', 'Donald Trump', 'Donald Trump',\n",
       "       'Joe Biden'], dtype=object)"
      ]
     },
     "metadata": {},
     "execution_count": 26
    }
   ],
   "source": [
    "ex = [\"We have it totally under control. It's one person coming in from China. It's going to be just fine\",\n",
    "\n",
    "\"I like this stuff. I really get it. People are surprised that I understand it... Every one of these doctors said, 'How do you know so much about this?' Maybe I have a natural ability. Maybe I should have done that instead of running for president\",\n",
    "\n",
    "\"Then I see the disinfectant which knocks it out in a minute. One minute. And is there a way we can do something like that, by injection inside for almost a cleaning? Because you see it gets in the lungs and it does a tremendous number on the lungs, so it'd be interesting to check that.\",\n",
    "\n",
    "\"When we have a lot of cases, I don't look at that as a bad thing, I look at that as, in a certain respect, as being a good thing... Because it means our testing is much better. I view it as a badge of honor, really, it's a badge of honor.\",\n",
    "\n",
    "\"We're twenty-sixth in the world. Twenty-five countries are better than us at education. And some of them are like third world countries. But we're becoming a third world country.\"]\n",
    "result = model.predict(ex)\n",
    "result"
   ]
  },
  {
   "cell_type": "code",
   "execution_count": 27,
   "metadata": {},
   "outputs": [
    {
     "output_type": "execute_result",
     "data": {
      "text/plain": [
       "array(['Joe Biden'], dtype=object)"
      ]
     },
     "metadata": {},
     "execution_count": 27
    }
   ],
   "source": [
    "ex=['I will not go. This administration will not be going to a lockdown. Hopefully, whatever happens in the future, who knows which administration it will be. I guess time will tell, but I can tell you, this administration will not go to a lockdown. They won’t be a necessity.']\n",
    "result = model.predict(ex)\n",
    "result "
   ]
  },
  {
   "cell_type": "code",
   "execution_count": 28,
   "metadata": {},
   "outputs": [
    {
     "output_type": "execute_result",
     "data": {
      "text/plain": [
       "array(['Donald Trump'], dtype=object)"
      ]
     },
     "metadata": {},
     "execution_count": 28
    }
   ],
   "source": [
    "ex=['Democrats are the party of the big donors. The big media, the big tech, it seems, and Republicans have become the party of the American worker, and that’s what’s happened. And we’re also, I believe the party of inclusion. As everyone now recognizes, media polling was election interference in the truest sense of that word, by powerful special interests.']\n",
    "result = model.predict(ex)\n",
    "result"
   ]
  },
  {
   "cell_type": "code",
   "execution_count": 29,
   "metadata": {},
   "outputs": [
    {
     "output_type": "execute_result",
     "data": {
      "text/plain": [
       "array(['Donald Trump'], dtype=object)"
      ]
     },
     "metadata": {},
     "execution_count": 29
    }
   ],
   "source": [
    "ex=['They had him up four points in Ohio and they were off by 12.2 points, and I also won Ohio, great state of Ohio very easily. And the Washington Post said, “Biden up 17 points in Wisconsin,” and it was basically even. They were off by about 17 points, and they knew that, they’re not stupid people. They knew that. Suppression.']\n",
    "result = model.predict(ex)\n",
    "result"
   ]
  },
  {
   "cell_type": "code",
   "execution_count": 30,
   "metadata": {},
   "outputs": [
    {
     "output_type": "execute_result",
     "data": {
      "text/plain": [
       "array(['Donald Trump'], dtype=object)"
      ]
     },
     "metadata": {},
     "execution_count": 30
    }
   ],
   "source": [
    "ex=['In Philadelphia, observers have been kept far away, very far away. So far that people are using binoculars to try and see, and there’s been tremendous problems caused. They put a paper on all of the windows so you can’t see in, and the people that are banned are very unhappy and become somewhat violent.']\n",
    "result = model.predict(ex)\n",
    "result"
   ]
  },
  {
   "cell_type": "code",
   "execution_count": 31,
   "metadata": {},
   "outputs": [
    {
     "output_type": "execute_result",
     "data": {
      "text/plain": [
       "array(['Donald Trump'], dtype=object)"
      ]
     },
     "metadata": {},
     "execution_count": 31
    }
   ],
   "source": [
    "ex=['One of the worst trade deals ever, how anybody could have signed it, but worse, how anybody could have let it run for 25 years or whatever it was. They just took advantage of us. We had 60,000 empty plants and factories in our country by the time that mess got finished. So we just signed a great deal, USMCA. It’s the largest trade deal ever made, Mexico, Canada, the largest ever made.']\n",
    "result = model.predict(ex)\n",
    "result"
   ]
  },
  {
   "cell_type": "code",
   "execution_count": 32,
   "metadata": {},
   "outputs": [
    {
     "output_type": "execute_result",
     "data": {
      "text/plain": [
       "array(['Donald Trump'], dtype=object)"
      ]
     },
     "metadata": {},
     "execution_count": 32
    }
   ],
   "source": [
    "ex=['In fact, I’m going to have to be very nice to UPS. UPS, I love you, Carol, wherever you are, Carol. I love you, Carol. Now it’s very bad what’s going on with mail-in ballots. Okay? As differentiated from absentee ballots where you have to go and you go through a process because you can’t be there for some reason, but the mail-in ballots is going to be, they’re going to be rigged. They’re going to be a terrible situation.']\n",
    "result = model.predict(ex)\n",
    "result"
   ]
  },
  {
   "cell_type": "code",
   "execution_count": 33,
   "metadata": {},
   "outputs": [
    {
     "output_type": "execute_result",
     "data": {
      "text/plain": [
       "array(['Joe Biden'], dtype=object)"
      ]
     },
     "metadata": {},
     "execution_count": 33
    }
   ],
   "source": [
    "ex=['We’re here today to celebrate and expand our historic campaign to rescue American workers from job-killing regulations. Before I came into office, American workers were smothered by merciless avalanche of wasteful and expensive and intrusive federal regulation. These oppressive burdensome mandates were a stealth tax on our people, slashing take home pay, suppressing innovation, surging the cost of goods, and shipping millions of American jobs overseas. ']\n",
    "result = model.predict(ex)\n",
    "result"
   ]
  },
  {
   "cell_type": "code",
   "execution_count": 34,
   "metadata": {},
   "outputs": [
    {
     "output_type": "execute_result",
     "data": {
      "text/plain": [
       "array(['Joe Biden'], dtype=object)"
      ]
     },
     "metadata": {},
     "execution_count": 34
    }
   ],
   "source": [
    "ex=['We’re bringing back consumer choice in home appliances so that you can buy washers and dryers, shower heads and faucets. So shower heads, you take a shower, the water doesn’t come out. You want to wash your hands, the water doesn’t come out.']\n",
    "result = model.predict(ex)\n",
    "result"
   ]
  },
  {
   "cell_type": "code",
   "execution_count": 35,
   "metadata": {},
   "outputs": [
    {
     "output_type": "execute_result",
     "data": {
      "text/plain": [
       "array(['Donald Trump'], dtype=object)"
      ]
     },
     "metadata": {},
     "execution_count": 35
    }
   ],
   "source": [
    "ex=['Because my hair, I don’t know about you, but it has to be perfect. Perfect. Dishwashers, you didn’t have any water so the people that do the dishes, you press it and it goes again and you do it again and again. ']\n",
    "result = model.predict(ex)\n",
    "result"
   ]
  },
  {
   "cell_type": "code",
   "execution_count": 36,
   "metadata": {},
   "outputs": [
    {
     "output_type": "execute_result",
     "data": {
      "text/plain": [
       "array(['Donald Trump'], dtype=object)"
      ]
     },
     "metadata": {},
     "execution_count": 36
    }
   ],
   "source": [
    "ex=['But there and then, we got hit by the virus that came from China. We’ve made a lot of progress. Our strategy is moving along well. It goes out in one area and rears back its ugly face in another area.']\n",
    "result = model.predict(ex)\n",
    "result"
   ]
  },
  {
   "cell_type": "code",
   "execution_count": 37,
   "metadata": {},
   "outputs": [
    {
     "output_type": "execute_result",
     "data": {
      "text/plain": [
       "array(['Donald Trump'], dtype=object)"
      ]
     },
     "metadata": {},
     "execution_count": 37
    }
   ],
   "source": [
    "ex=['But the second debate in particular, I think was something that worked out very well. And then we did the… We got back, we’re lucky we got it back, because for a period of time we did not think we were going to get these big rallies back. And we got them back and they were amazing. I mean, they were amazing. And you add it all together, and I think we really took off.']\n",
    "result = model.predict(ex)\n",
    "result"
   ]
  },
  {
   "cell_type": "code",
   "execution_count": 38,
   "metadata": {},
   "outputs": [
    {
     "output_type": "execute_result",
     "data": {
      "text/plain": [
       "array(['Donald Trump'], dtype=object)"
      ]
     },
     "metadata": {},
     "execution_count": 38
    }
   ],
   "source": [
    "ex=['Well, it’s become pretty standard. We built the greatest Academy in the world. It was horribly interrupted by something that should’ve never happened. Came in from China, the plague, the plague from China, the horrible situation. And we had to shut it down and we had to learn about it. We had to shut it down and we did the right thing. We saved two million people. We saved a lot of people. The original model was 2.2 million people. And so if you use that model, and you go, that was a main model, you’ve used that model. We saved two million people, and now we’re building it back up again. And we had the best economy. Nobody had ever seen anything like it. And now what happens is we build it up again and we are doing it at a record clip.']\n",
    "result = model.predict(ex)\n",
    "result"
   ]
  },
  {
   "cell_type": "code",
   "execution_count": 39,
   "metadata": {},
   "outputs": [
    {
     "output_type": "execute_result",
     "data": {
      "text/plain": [
       "array(['Donald Trump'], dtype=object)"
      ]
     },
     "metadata": {},
     "execution_count": 39
    }
   ],
   "source": [
    "ex=['So I’m doing a big series of phone calls and to some really good people. And you’re the first one, by the way, but I’m doing a big series of calls. And in doing the calls, I’m going to be talking to some people that really, that have been very important. Both to me, important, some very important calls and some people that have been very loyal to me over the years. I like those people too. Even if they reach about 15 people, that’s okay with me.']\n",
    "result = model.predict(ex)\n",
    "result"
   ]
  },
  {
   "cell_type": "code",
   "execution_count": null,
   "metadata": {},
   "outputs": [],
   "source": []
  }
 ]
}