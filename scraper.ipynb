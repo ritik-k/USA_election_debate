{
 "metadata": {
  "language_info": {
   "codemirror_mode": {
    "name": "ipython",
    "version": 3
   },
   "file_extension": ".py",
   "mimetype": "text/x-python",
   "name": "python",
   "nbconvert_exporter": "python",
   "pygments_lexer": "ipython3",
   "version": "3.8.5-final"
  },
  "orig_nbformat": 2,
  "kernelspec": {
   "name": "python38564bittwitcondaa52bfc911aec4e4d8252196a54eb4094",
   "display_name": "Python 3.8.5 64-bit ('twit': conda)"
  }
 },
 "nbformat": 4,
 "nbformat_minor": 2,
 "cells": [
  {
   "cell_type": "code",
   "execution_count": 1,
   "metadata": {},
   "outputs": [],
   "source": [
    "import requests\n",
    "import pandas as pd\n",
    "from bs4 import BeautifulSoup\n",
    "from random import randint\n",
    "from time import sleep"
   ]
  },
  {
   "cell_type": "code",
   "execution_count": 2,
   "metadata": {},
   "outputs": [],
   "source": [
    "trump = []"
   ]
  },
  {
   "cell_type": "code",
   "execution_count": 3,
   "metadata": {},
   "outputs": [],
   "source": [
    "# links for trump speeches\n",
    "pages = ['https://factba.se/transcript/donald-trump-speech-campaign-rally-fayetteville-north-carolina-november-2-2020',\n",
    "'https://factba.se/transcript/donald-trump-speech-campaign-rally-traverse-city-michigan-november-2-2020',\n",
    "'https://factba.se/transcript/donald-trump-speech-campaign-rally-kenosha-wisconsin-november-2-2020',\n",
    "'https://factba.se/transcript/donald-trump-speech-campaign-rally-grand-rapids-mi-november-2-2020',\n",
    "'https://factba.se/transcript/donald-trump-speech-campaign-rally-avoca-pennsylvania-november-2-2020']"
   ]
  },
  {
   "cell_type": "code",
   "execution_count": 4,
   "metadata": {},
   "outputs": [
    {
     "output_type": "stream",
     "name": "stdout",
     "text": [
      "https://factba.se/transcript/donald-trump-speech-campaign-rally-fayetteville-north-carolina-november-2-2020\n",
      "200\n",
      "https://factba.se/transcript/donald-trump-speech-campaign-rally-traverse-city-michigan-november-2-2020\n",
      "200\n",
      "https://factba.se/transcript/donald-trump-speech-campaign-rally-kenosha-wisconsin-november-2-2020\n",
      "200\n",
      "https://factba.se/transcript/donald-trump-speech-campaign-rally-grand-rapids-mi-november-2-2020\n",
      "200\n",
      "https://factba.se/transcript/donald-trump-speech-campaign-rally-avoca-pennsylvania-november-2-2020\n",
      "200\n"
     ]
    }
   ],
   "source": [
    "for page in pages:\n",
    "    r = requests.get(page)\n",
    "    sleep(randint(1,2))\n",
    "    print(page)\n",
    "    print(r.status_code)\n",
    "    html = r.content\n",
    "    soup = BeautifulSoup(html, 'lxml')\n",
    "    temp = soup.find_all('div', class_='transcript-text-block')\n",
    "    temp1 = [x.text.strip() for x in temp]\n",
    "    trump.extend(temp1)"
   ]
  },
  {
   "cell_type": "code",
   "execution_count": 5,
   "metadata": {},
   "outputs": [
    {
     "output_type": "execute_result",
     "data": {
      "text/plain": [
       "890"
      ]
     },
     "metadata": {},
     "execution_count": 5
    }
   ],
   "source": [
    "len(trump)"
   ]
  },
  {
   "cell_type": "code",
   "execution_count": 6,
   "metadata": {},
   "outputs": [],
   "source": [
    "df_master_trump = pd.DataFrame(trump, columns=['text'])"
   ]
  },
  {
   "cell_type": "code",
   "execution_count": 7,
   "metadata": {},
   "outputs": [],
   "source": [
    "df_master_trump['speaker'] = 'Donald Trump'"
   ]
  },
  {
   "cell_type": "code",
   "execution_count": 8,
   "metadata": {},
   "outputs": [],
   "source": [
    "df_trump = df_master_trump.copy()"
   ]
  },
  {
   "cell_type": "code",
   "execution_count": 9,
   "metadata": {},
   "outputs": [
    {
     "output_type": "stream",
     "name": "stdout",
     "text": [
      "<class 'pandas.core.frame.DataFrame'>\nRangeIndex: 890 entries, 0 to 889\nData columns (total 2 columns):\n #   Column   Non-Null Count  Dtype \n---  ------   --------------  ----- \n 0   text     890 non-null    object\n 1   speaker  890 non-null    object\ndtypes: object(2)\nmemory usage: 14.0+ KB\n"
     ]
    }
   ],
   "source": [
    "df_trump.info()"
   ]
  },
  {
   "cell_type": "code",
   "execution_count": 10,
   "metadata": {},
   "outputs": [],
   "source": [
    "# Columns starting with '[Video' should be ignored as they're not Trump's words.\n",
    "df_trump = df_trump[~df_trump['text'].str.startswith('[Video')]"
   ]
  },
  {
   "cell_type": "code",
   "execution_count": 11,
   "metadata": {},
   "outputs": [],
   "source": [
    "df_trump.reset_index(drop=True, inplace=True)"
   ]
  },
  {
   "cell_type": "code",
   "execution_count": null,
   "metadata": {},
   "outputs": [],
   "source": []
  },
  {
   "cell_type": "code",
   "execution_count": null,
   "metadata": {},
   "outputs": [],
   "source": []
  },
  {
   "cell_type": "code",
   "execution_count": 12,
   "metadata": {},
   "outputs": [],
   "source": [
    "biden = []"
   ]
  },
  {
   "cell_type": "code",
   "execution_count": 13,
   "metadata": {},
   "outputs": [],
   "source": [
    "# links for biden speeches\n",
    "pages = ['https://www.rev.com/blog/transcripts/joe-biden-campaign-event-speech-transcript-pittsburgh-pa-november-2',\n",
    "'https://www.rev.com/blog/transcripts/joe-biden-campaign-speech-beaver-county-pennsylvania-november-2',\n",
    "'https://www.rev.com/blog/transcripts/joe-biden-campaign-speech-transcript-milwaukee-wisconsin-october-30',\n",
    "'https://www.rev.com/blog/transcripts/joe-biden-campaign-event-speech-transcript-philadelphia-november-1',\n",
    "'https://www.rev.com/blog/transcripts/joe-biden-campaign-event-speech-transcript-des-moines-iowa-october-30',\n",
    "'https://www.rev.com/blog/transcripts/joe-biden-campaign-rally-speech-transcript-tampa-fl-october-29',\n",
    "'https://www.rev.com/blog/transcripts/joe-biden-campaign-speech-transcript-atlanta-georgia-october-27']"
   ]
  },
  {
   "cell_type": "code",
   "execution_count": null,
   "metadata": {},
   "outputs": [],
   "source": []
  },
  {
   "cell_type": "code",
   "execution_count": 14,
   "metadata": {},
   "outputs": [
    {
     "output_type": "stream",
     "name": "stdout",
     "text": [
      "https://www.rev.com/blog/transcripts/joe-biden-campaign-event-speech-transcript-pittsburgh-pa-november-2\n",
      "200\n",
      "https://www.rev.com/blog/transcripts/joe-biden-campaign-speech-beaver-county-pennsylvania-november-2\n",
      "200\n",
      "https://www.rev.com/blog/transcripts/joe-biden-campaign-speech-transcript-milwaukee-wisconsin-october-30\n",
      "200\n",
      "https://www.rev.com/blog/transcripts/joe-biden-campaign-event-speech-transcript-philadelphia-november-1\n",
      "200\n",
      "https://www.rev.com/blog/transcripts/joe-biden-campaign-event-speech-transcript-des-moines-iowa-october-30\n",
      "200\n",
      "https://www.rev.com/blog/transcripts/joe-biden-campaign-rally-speech-transcript-tampa-fl-october-29\n",
      "200\n",
      "https://www.rev.com/blog/transcripts/joe-biden-campaign-speech-transcript-atlanta-georgia-october-27\n",
      "200\n"
     ]
    }
   ],
   "source": [
    "for page in pages:\n",
    "    r = requests.get(page)\n",
    "    sleep(randint(1,2))\n",
    "    print(page)\n",
    "    print(r.status_code)\n",
    "    html = r.content\n",
    "    soup = BeautifulSoup(html, 'lxml')\n",
    "    temp = soup.find_all('p')\n",
    "    temp1 = [x.text.strip() for x in temp]\n",
    "    biden.extend(temp1)"
   ]
  },
  {
   "cell_type": "code",
   "execution_count": 15,
   "metadata": {},
   "outputs": [
    {
     "output_type": "execute_result",
     "data": {
      "text/plain": [
       "274"
      ]
     },
     "metadata": {},
     "execution_count": 15
    }
   ],
   "source": [
    "len(biden)"
   ]
  },
  {
   "cell_type": "code",
   "execution_count": 16,
   "metadata": {},
   "outputs": [
    {
     "output_type": "stream",
     "name": "stdout",
     "text": [
      "193\n"
     ]
    }
   ],
   "source": [
    "# Only considering rows that start with 'Joe Biden:'\n",
    "bid = []\n",
    "for x in biden:\n",
    "    if x.startswith('Joe Biden:'):\n",
    "        bid.append(x)\n",
    "print(len(bid))"
   ]
  },
  {
   "cell_type": "code",
   "execution_count": 17,
   "metadata": {},
   "outputs": [],
   "source": [
    "bid = [x[19:] for x in bid] # Ignoring the first 19 characters which contain Biden's name and timestamp."
   ]
  },
  {
   "cell_type": "code",
   "execution_count": 20,
   "metadata": {},
   "outputs": [
    {
     "output_type": "stream",
     "name": "stdout",
     "text": [
      "1798\n"
     ]
    }
   ],
   "source": [
    "# splitting paragraphs into sentences.\n",
    "b = []\n",
    "for x in bid:\n",
    "    i = x.split('.')\n",
    "    b.extend(i)\n",
    "print(len(b))"
   ]
  },
  {
   "cell_type": "code",
   "execution_count": 21,
   "metadata": {},
   "outputs": [],
   "source": [
    "df_master_biden = pd.DataFrame(b,columns=['text'])"
   ]
  },
  {
   "cell_type": "code",
   "execution_count": 22,
   "metadata": {},
   "outputs": [],
   "source": [
    "df_master_biden['speaker'] = 'Joe Biden'"
   ]
  },
  {
   "cell_type": "code",
   "execution_count": 23,
   "metadata": {},
   "outputs": [],
   "source": [
    "df_biden = df_master_biden.copy()"
   ]
  },
  {
   "cell_type": "code",
   "execution_count": 24,
   "metadata": {},
   "outputs": [],
   "source": [
    "import numpy as np\n",
    "df_biden['text'].replace('',np.nan, inplace=True)"
   ]
  },
  {
   "cell_type": "code",
   "execution_count": 25,
   "metadata": {},
   "outputs": [],
   "source": [
    "df_biden.dropna(how='any',inplace=True)"
   ]
  },
  {
   "cell_type": "code",
   "execution_count": 26,
   "metadata": {},
   "outputs": [],
   "source": [
    "df_biden.reset_index(drop=True, inplace=True)"
   ]
  },
  {
   "cell_type": "code",
   "execution_count": 27,
   "metadata": {},
   "outputs": [],
   "source": [
    "frames = [df_trump, df_biden]"
   ]
  },
  {
   "cell_type": "code",
   "execution_count": 28,
   "metadata": {},
   "outputs": [],
   "source": [
    "df = pd.concat(frames)"
   ]
  },
  {
   "cell_type": "code",
   "execution_count": 29,
   "metadata": {},
   "outputs": [],
   "source": [
    "# storing the final dataframe in csv format for model training.\n",
    "df.to_csv('data/csv/extra_training_data.csv',index=False)"
   ]
  },
  {
   "cell_type": "code",
   "execution_count": null,
   "metadata": {},
   "outputs": [],
   "source": []
  }
 ]
}